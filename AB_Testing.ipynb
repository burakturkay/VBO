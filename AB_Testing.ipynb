{
 "cells": [
  {
   "cell_type": "markdown",
   "metadata": {},
   "source": [
    "\n",
    "# AB Testing"
   ]
  },
  {
   "cell_type": "markdown",
   "metadata": {},
   "source": [
    "## 1) Importing Libraries  and Data"
   ]
  },
  {
   "cell_type": "code",
   "execution_count": 1,
   "metadata": {},
   "outputs": [],
   "source": [
    "import pandas as pd\n",
    "import matplotlib.pyplot as plt\n",
    "from scipy.stats import shapiro, levene, ttest_ind, mannwhitneyu"
   ]
  },
  {
   "cell_type": "code",
   "execution_count": 2,
   "metadata": {},
   "outputs": [],
   "source": [
    "df_control_raw = pd.read_excel('ab_testing.xlsx', sheet_name='Control Group')\n",
    "df_test_raw = pd.read_excel('ab_testing.xlsx', sheet_name='Test Group')\n",
    "\n",
    "df_control_raw = df_control_raw[[\"Impression\",\"Click\",\"Purchase\",\"Earning\"]]\n",
    "df_test_raw = df_test_raw[[\"Impression\",\"Click\",\"Purchase\",\"Earning\"]]"
   ]
  },
  {
   "cell_type": "markdown",
   "metadata": {},
   "source": [
    "## 2) Data Preprocessing and EDA"
   ]
  },
  {
   "cell_type": "code",
   "execution_count": 3,
   "metadata": {},
   "outputs": [
    {
     "data": {
      "text/html": [
       "<div>\n",
       "<style scoped>\n",
       "    .dataframe tbody tr th:only-of-type {\n",
       "        vertical-align: middle;\n",
       "    }\n",
       "\n",
       "    .dataframe tbody tr th {\n",
       "        vertical-align: top;\n",
       "    }\n",
       "\n",
       "    .dataframe thead th {\n",
       "        text-align: right;\n",
       "    }\n",
       "</style>\n",
       "<table border=\"1\" class=\"dataframe\">\n",
       "  <thead>\n",
       "    <tr style=\"text-align: right;\">\n",
       "      <th></th>\n",
       "      <th>Impression</th>\n",
       "      <th>Click</th>\n",
       "      <th>Purchase</th>\n",
       "      <th>Earning</th>\n",
       "      <th>Click_Rate</th>\n",
       "      <th>Purchase_to_Click</th>\n",
       "      <th>Purchase_to_Impression</th>\n",
       "    </tr>\n",
       "  </thead>\n",
       "  <tbody>\n",
       "    <tr>\n",
       "      <th>0</th>\n",
       "      <td>82529.459271</td>\n",
       "      <td>6090.077317</td>\n",
       "      <td>665.211255</td>\n",
       "      <td>2311.277143</td>\n",
       "      <td>0.073793</td>\n",
       "      <td>0.109229</td>\n",
       "      <td>0.008060</td>\n",
       "    </tr>\n",
       "    <tr>\n",
       "      <th>1</th>\n",
       "      <td>98050.451926</td>\n",
       "      <td>3382.861786</td>\n",
       "      <td>315.084895</td>\n",
       "      <td>1742.806855</td>\n",
       "      <td>0.034501</td>\n",
       "      <td>0.093142</td>\n",
       "      <td>0.003213</td>\n",
       "    </tr>\n",
       "    <tr>\n",
       "      <th>2</th>\n",
       "      <td>82696.023549</td>\n",
       "      <td>4167.965750</td>\n",
       "      <td>458.083738</td>\n",
       "      <td>1797.827447</td>\n",
       "      <td>0.050401</td>\n",
       "      <td>0.109906</td>\n",
       "      <td>0.005539</td>\n",
       "    </tr>\n",
       "    <tr>\n",
       "      <th>3</th>\n",
       "      <td>109914.400398</td>\n",
       "      <td>4910.882240</td>\n",
       "      <td>487.090773</td>\n",
       "      <td>1696.229178</td>\n",
       "      <td>0.044679</td>\n",
       "      <td>0.099186</td>\n",
       "      <td>0.004432</td>\n",
       "    </tr>\n",
       "    <tr>\n",
       "      <th>4</th>\n",
       "      <td>108457.762630</td>\n",
       "      <td>5987.655811</td>\n",
       "      <td>441.034050</td>\n",
       "      <td>1543.720179</td>\n",
       "      <td>0.055207</td>\n",
       "      <td>0.073657</td>\n",
       "      <td>0.004066</td>\n",
       "    </tr>\n",
       "  </tbody>\n",
       "</table>\n",
       "</div>"
      ],
      "text/plain": [
       "      Impression        Click    Purchase      Earning  Click_Rate  \\\n",
       "0   82529.459271  6090.077317  665.211255  2311.277143    0.073793   \n",
       "1   98050.451926  3382.861786  315.084895  1742.806855    0.034501   \n",
       "2   82696.023549  4167.965750  458.083738  1797.827447    0.050401   \n",
       "3  109914.400398  4910.882240  487.090773  1696.229178    0.044679   \n",
       "4  108457.762630  5987.655811  441.034050  1543.720179    0.055207   \n",
       "\n",
       "   Purchase_to_Click  Purchase_to_Impression  \n",
       "0           0.109229                0.008060  \n",
       "1           0.093142                0.003213  \n",
       "2           0.109906                0.005539  \n",
       "3           0.099186                0.004432  \n",
       "4           0.073657                0.004066  "
      ]
     },
     "execution_count": 3,
     "metadata": {},
     "output_type": "execute_result"
    }
   ],
   "source": [
    "df_control_raw[\"Click_Rate\"] = df_control_raw[\"Click\"] / df_control_raw[\"Impression\"]\n",
    "df_control_raw[\"Purchase_to_Click\"] = df_control_raw[\"Purchase\"] / df_control_raw[\"Click\"]\n",
    "df_control_raw[\"Purchase_to_Impression\"] = df_control_raw[\"Purchase\"] / df_control_raw[\"Impression\"]\n",
    "df_control = df_control_raw.copy()\n",
    "df_control.head()"
   ]
  },
  {
   "cell_type": "code",
   "execution_count": 4,
   "metadata": {},
   "outputs": [
    {
     "data": {
      "text/html": [
       "<div>\n",
       "<style scoped>\n",
       "    .dataframe tbody tr th:only-of-type {\n",
       "        vertical-align: middle;\n",
       "    }\n",
       "\n",
       "    .dataframe tbody tr th {\n",
       "        vertical-align: top;\n",
       "    }\n",
       "\n",
       "    .dataframe thead th {\n",
       "        text-align: right;\n",
       "    }\n",
       "</style>\n",
       "<table border=\"1\" class=\"dataframe\">\n",
       "  <thead>\n",
       "    <tr style=\"text-align: right;\">\n",
       "      <th></th>\n",
       "      <th>count</th>\n",
       "      <th>mean</th>\n",
       "      <th>std</th>\n",
       "      <th>min</th>\n",
       "      <th>25%</th>\n",
       "      <th>50%</th>\n",
       "      <th>75%</th>\n",
       "      <th>max</th>\n",
       "    </tr>\n",
       "  </thead>\n",
       "  <tbody>\n",
       "    <tr>\n",
       "      <th>Impression</th>\n",
       "      <td>40.0</td>\n",
       "      <td>101711.45</td>\n",
       "      <td>20302.16</td>\n",
       "      <td>45475.94</td>\n",
       "      <td>85726.69</td>\n",
       "      <td>99790.70</td>\n",
       "      <td>115212.82</td>\n",
       "      <td>147539.34</td>\n",
       "    </tr>\n",
       "    <tr>\n",
       "      <th>Click</th>\n",
       "      <td>40.0</td>\n",
       "      <td>5100.66</td>\n",
       "      <td>1329.99</td>\n",
       "      <td>2189.75</td>\n",
       "      <td>4124.30</td>\n",
       "      <td>5001.22</td>\n",
       "      <td>5923.80</td>\n",
       "      <td>7959.13</td>\n",
       "    </tr>\n",
       "    <tr>\n",
       "      <th>Purchase</th>\n",
       "      <td>40.0</td>\n",
       "      <td>550.89</td>\n",
       "      <td>134.11</td>\n",
       "      <td>267.03</td>\n",
       "      <td>470.10</td>\n",
       "      <td>531.21</td>\n",
       "      <td>637.96</td>\n",
       "      <td>801.80</td>\n",
       "    </tr>\n",
       "    <tr>\n",
       "      <th>Earning</th>\n",
       "      <td>40.0</td>\n",
       "      <td>1908.57</td>\n",
       "      <td>302.92</td>\n",
       "      <td>1253.99</td>\n",
       "      <td>1685.85</td>\n",
       "      <td>1975.16</td>\n",
       "      <td>2119.80</td>\n",
       "      <td>2497.30</td>\n",
       "    </tr>\n",
       "    <tr>\n",
       "      <th>Click_Rate</th>\n",
       "      <td>40.0</td>\n",
       "      <td>0.05</td>\n",
       "      <td>0.02</td>\n",
       "      <td>0.02</td>\n",
       "      <td>0.04</td>\n",
       "      <td>0.05</td>\n",
       "      <td>0.06</td>\n",
       "      <td>0.16</td>\n",
       "    </tr>\n",
       "    <tr>\n",
       "      <th>Purchase_to_Click</th>\n",
       "      <td>40.0</td>\n",
       "      <td>0.12</td>\n",
       "      <td>0.05</td>\n",
       "      <td>0.04</td>\n",
       "      <td>0.09</td>\n",
       "      <td>0.11</td>\n",
       "      <td>0.14</td>\n",
       "      <td>0.30</td>\n",
       "    </tr>\n",
       "    <tr>\n",
       "      <th>Purchase_to_Impression</th>\n",
       "      <td>40.0</td>\n",
       "      <td>0.01</td>\n",
       "      <td>0.00</td>\n",
       "      <td>0.00</td>\n",
       "      <td>0.00</td>\n",
       "      <td>0.01</td>\n",
       "      <td>0.01</td>\n",
       "      <td>0.01</td>\n",
       "    </tr>\n",
       "  </tbody>\n",
       "</table>\n",
       "</div>"
      ],
      "text/plain": [
       "                        count       mean       std       min       25%  \\\n",
       "Impression               40.0  101711.45  20302.16  45475.94  85726.69   \n",
       "Click                    40.0    5100.66   1329.99   2189.75   4124.30   \n",
       "Purchase                 40.0     550.89    134.11    267.03    470.10   \n",
       "Earning                  40.0    1908.57    302.92   1253.99   1685.85   \n",
       "Click_Rate               40.0       0.05      0.02      0.02      0.04   \n",
       "Purchase_to_Click        40.0       0.12      0.05      0.04      0.09   \n",
       "Purchase_to_Impression   40.0       0.01      0.00      0.00      0.00   \n",
       "\n",
       "                             50%        75%        max  \n",
       "Impression              99790.70  115212.82  147539.34  \n",
       "Click                    5001.22    5923.80    7959.13  \n",
       "Purchase                  531.21     637.96     801.80  \n",
       "Earning                  1975.16    2119.80    2497.30  \n",
       "Click_Rate                  0.05       0.06       0.16  \n",
       "Purchase_to_Click           0.11       0.14       0.30  \n",
       "Purchase_to_Impression      0.01       0.01       0.01  "
      ]
     },
     "execution_count": 4,
     "metadata": {},
     "output_type": "execute_result"
    }
   ],
   "source": [
    "df_control.describe().T.round(2)"
   ]
  },
  {
   "cell_type": "code",
   "execution_count": 5,
   "metadata": {
    "scrolled": false
   },
   "outputs": [
    {
     "data": {
      "text/html": [
       "<div>\n",
       "<style scoped>\n",
       "    .dataframe tbody tr th:only-of-type {\n",
       "        vertical-align: middle;\n",
       "    }\n",
       "\n",
       "    .dataframe tbody tr th {\n",
       "        vertical-align: top;\n",
       "    }\n",
       "\n",
       "    .dataframe thead th {\n",
       "        text-align: right;\n",
       "    }\n",
       "</style>\n",
       "<table border=\"1\" class=\"dataframe\">\n",
       "  <thead>\n",
       "    <tr style=\"text-align: right;\">\n",
       "      <th></th>\n",
       "      <th>Impression</th>\n",
       "      <th>Click</th>\n",
       "      <th>Purchase</th>\n",
       "      <th>Earning</th>\n",
       "      <th>Click_Rate</th>\n",
       "      <th>Purchase_to_Click</th>\n",
       "      <th>Purchase_to_Impression</th>\n",
       "    </tr>\n",
       "  </thead>\n",
       "  <tbody>\n",
       "    <tr>\n",
       "      <th>0</th>\n",
       "      <td>120103.503796</td>\n",
       "      <td>3216.547958</td>\n",
       "      <td>702.160346</td>\n",
       "      <td>1939.611243</td>\n",
       "      <td>0.026781</td>\n",
       "      <td>0.218296</td>\n",
       "      <td>0.005846</td>\n",
       "    </tr>\n",
       "    <tr>\n",
       "      <th>1</th>\n",
       "      <td>134775.943363</td>\n",
       "      <td>3635.082422</td>\n",
       "      <td>834.054286</td>\n",
       "      <td>2929.405820</td>\n",
       "      <td>0.026971</td>\n",
       "      <td>0.229446</td>\n",
       "      <td>0.006188</td>\n",
       "    </tr>\n",
       "    <tr>\n",
       "      <th>2</th>\n",
       "      <td>107806.620788</td>\n",
       "      <td>3057.143560</td>\n",
       "      <td>422.934258</td>\n",
       "      <td>2526.244877</td>\n",
       "      <td>0.028358</td>\n",
       "      <td>0.138343</td>\n",
       "      <td>0.003923</td>\n",
       "    </tr>\n",
       "    <tr>\n",
       "      <th>3</th>\n",
       "      <td>116445.275526</td>\n",
       "      <td>4650.473911</td>\n",
       "      <td>429.033535</td>\n",
       "      <td>2281.428574</td>\n",
       "      <td>0.039937</td>\n",
       "      <td>0.092256</td>\n",
       "      <td>0.003684</td>\n",
       "    </tr>\n",
       "    <tr>\n",
       "      <th>4</th>\n",
       "      <td>145082.516838</td>\n",
       "      <td>5201.387724</td>\n",
       "      <td>749.860442</td>\n",
       "      <td>2781.697521</td>\n",
       "      <td>0.035851</td>\n",
       "      <td>0.144165</td>\n",
       "      <td>0.005169</td>\n",
       "    </tr>\n",
       "  </tbody>\n",
       "</table>\n",
       "</div>"
      ],
      "text/plain": [
       "      Impression        Click    Purchase      Earning  Click_Rate  \\\n",
       "0  120103.503796  3216.547958  702.160346  1939.611243    0.026781   \n",
       "1  134775.943363  3635.082422  834.054286  2929.405820    0.026971   \n",
       "2  107806.620788  3057.143560  422.934258  2526.244877    0.028358   \n",
       "3  116445.275526  4650.473911  429.033535  2281.428574    0.039937   \n",
       "4  145082.516838  5201.387724  749.860442  2781.697521    0.035851   \n",
       "\n",
       "   Purchase_to_Click  Purchase_to_Impression  \n",
       "0           0.218296                0.005846  \n",
       "1           0.229446                0.006188  \n",
       "2           0.138343                0.003923  \n",
       "3           0.092256                0.003684  \n",
       "4           0.144165                0.005169  "
      ]
     },
     "execution_count": 5,
     "metadata": {},
     "output_type": "execute_result"
    }
   ],
   "source": [
    "df_test_raw[\"Click_Rate\"] = df_test_raw[\"Click\"] / df_test_raw[\"Impression\"]\n",
    "df_test_raw[\"Purchase_to_Click\"] = df_test_raw[\"Purchase\"] / df_test_raw[\"Click\"]\n",
    "df_test_raw[\"Purchase_to_Impression\"] = df_test_raw[\"Purchase\"] / df_test_raw[\"Impression\"]\n",
    "df_test = df_test_raw.copy()\n",
    "df_test.head()"
   ]
  },
  {
   "cell_type": "code",
   "execution_count": 6,
   "metadata": {},
   "outputs": [
    {
     "data": {
      "text/html": [
       "<div>\n",
       "<style scoped>\n",
       "    .dataframe tbody tr th:only-of-type {\n",
       "        vertical-align: middle;\n",
       "    }\n",
       "\n",
       "    .dataframe tbody tr th {\n",
       "        vertical-align: top;\n",
       "    }\n",
       "\n",
       "    .dataframe thead th {\n",
       "        text-align: right;\n",
       "    }\n",
       "</style>\n",
       "<table border=\"1\" class=\"dataframe\">\n",
       "  <thead>\n",
       "    <tr style=\"text-align: right;\">\n",
       "      <th></th>\n",
       "      <th>count</th>\n",
       "      <th>mean</th>\n",
       "      <th>std</th>\n",
       "      <th>min</th>\n",
       "      <th>25%</th>\n",
       "      <th>50%</th>\n",
       "      <th>75%</th>\n",
       "      <th>max</th>\n",
       "    </tr>\n",
       "  </thead>\n",
       "  <tbody>\n",
       "    <tr>\n",
       "      <th>Impression</th>\n",
       "      <td>40.0</td>\n",
       "      <td>120512.41</td>\n",
       "      <td>18807.45</td>\n",
       "      <td>79033.83</td>\n",
       "      <td>112691.97</td>\n",
       "      <td>119291.30</td>\n",
       "      <td>132050.58</td>\n",
       "      <td>158605.92</td>\n",
       "    </tr>\n",
       "    <tr>\n",
       "      <th>Click</th>\n",
       "      <td>40.0</td>\n",
       "      <td>3967.55</td>\n",
       "      <td>923.10</td>\n",
       "      <td>1836.63</td>\n",
       "      <td>3376.82</td>\n",
       "      <td>3931.36</td>\n",
       "      <td>4660.50</td>\n",
       "      <td>6019.70</td>\n",
       "    </tr>\n",
       "    <tr>\n",
       "      <th>Purchase</th>\n",
       "      <td>40.0</td>\n",
       "      <td>582.11</td>\n",
       "      <td>161.15</td>\n",
       "      <td>311.63</td>\n",
       "      <td>444.63</td>\n",
       "      <td>551.36</td>\n",
       "      <td>699.86</td>\n",
       "      <td>889.91</td>\n",
       "    </tr>\n",
       "    <tr>\n",
       "      <th>Earning</th>\n",
       "      <td>40.0</td>\n",
       "      <td>2514.89</td>\n",
       "      <td>282.73</td>\n",
       "      <td>1939.61</td>\n",
       "      <td>2280.54</td>\n",
       "      <td>2544.67</td>\n",
       "      <td>2761.55</td>\n",
       "      <td>3171.49</td>\n",
       "    </tr>\n",
       "    <tr>\n",
       "      <th>Click_Rate</th>\n",
       "      <td>40.0</td>\n",
       "      <td>0.03</td>\n",
       "      <td>0.01</td>\n",
       "      <td>0.01</td>\n",
       "      <td>0.03</td>\n",
       "      <td>0.03</td>\n",
       "      <td>0.04</td>\n",
       "      <td>0.08</td>\n",
       "    </tr>\n",
       "    <tr>\n",
       "      <th>Purchase_to_Click</th>\n",
       "      <td>40.0</td>\n",
       "      <td>0.16</td>\n",
       "      <td>0.07</td>\n",
       "      <td>0.06</td>\n",
       "      <td>0.11</td>\n",
       "      <td>0.15</td>\n",
       "      <td>0.18</td>\n",
       "      <td>0.45</td>\n",
       "    </tr>\n",
       "    <tr>\n",
       "      <th>Purchase_to_Impression</th>\n",
       "      <td>40.0</td>\n",
       "      <td>0.00</td>\n",
       "      <td>0.00</td>\n",
       "      <td>0.00</td>\n",
       "      <td>0.00</td>\n",
       "      <td>0.00</td>\n",
       "      <td>0.01</td>\n",
       "      <td>0.01</td>\n",
       "    </tr>\n",
       "  </tbody>\n",
       "</table>\n",
       "</div>"
      ],
      "text/plain": [
       "                        count       mean       std       min        25%  \\\n",
       "Impression               40.0  120512.41  18807.45  79033.83  112691.97   \n",
       "Click                    40.0    3967.55    923.10   1836.63    3376.82   \n",
       "Purchase                 40.0     582.11    161.15    311.63     444.63   \n",
       "Earning                  40.0    2514.89    282.73   1939.61    2280.54   \n",
       "Click_Rate               40.0       0.03      0.01      0.01       0.03   \n",
       "Purchase_to_Click        40.0       0.16      0.07      0.06       0.11   \n",
       "Purchase_to_Impression   40.0       0.00      0.00      0.00       0.00   \n",
       "\n",
       "                              50%        75%        max  \n",
       "Impression              119291.30  132050.58  158605.92  \n",
       "Click                     3931.36    4660.50    6019.70  \n",
       "Purchase                   551.36     699.86     889.91  \n",
       "Earning                   2544.67    2761.55    3171.49  \n",
       "Click_Rate                   0.03       0.04       0.08  \n",
       "Purchase_to_Click            0.15       0.18       0.45  \n",
       "Purchase_to_Impression       0.00       0.01       0.01  "
      ]
     },
     "execution_count": 6,
     "metadata": {},
     "output_type": "execute_result"
    }
   ],
   "source": [
    "df_test.describe().T.round(2)"
   ]
  },
  {
   "cell_type": "code",
   "execution_count": 7,
   "metadata": {},
   "outputs": [],
   "source": [
    "# Histogram for the both bidding types"
   ]
  },
  {
   "cell_type": "code",
   "execution_count": 8,
   "metadata": {},
   "outputs": [
    {
     "data": {
      "image/png": "[encoded data removed]",
      "text/plain": [
       "<Figure size 504x504 with 1 Axes>"
      ]
     },
     "metadata": {
      "needs_background": "light"
     },
     "output_type": "display_data"
    }
   ],
   "source": [
    "df_control['Purchase'].hist(figsize=(7,7), color='g');\n",
    "df_test['Purchase'].hist(figsize=(7,7), alpha=0.8);"
   ]
  },
  {
   "cell_type": "code",
   "execution_count": 9,
   "metadata": {},
   "outputs": [
    {
     "data": {
      "image/png": "[encoded data removed]",
      "text/plain": [
       "<Figure size 504x504 with 1 Axes>"
      ]
     },
     "metadata": {
      "needs_background": "light"
     },
     "output_type": "display_data"
    }
   ],
   "source": [
    "df_control['Click_Rate'].hist(figsize=(7,7), color='g');\n",
    "df_test['Click_Rate'].hist(figsize=(7,7), alpha=0.8);"
   ]
  },
  {
   "cell_type": "code",
   "execution_count": 10,
   "metadata": {},
   "outputs": [
    {
     "data": {
      "image/png": "[encoded data removed]",
      "text/plain": [
       "<Figure size 504x504 with 1 Axes>"
      ]
     },
     "metadata": {
      "needs_background": "light"
     },
     "output_type": "display_data"
    }
   ],
   "source": [
    "df_control['Purchase_to_Click'].hist(figsize=(7,7), color='g');\n",
    "df_test['Purchase_to_Click'].hist(figsize=(7,7), alpha=0.8);"
   ]
  },
  {
   "cell_type": "code",
   "execution_count": 11,
   "metadata": {},
   "outputs": [
    {
     "data": {
      "image/png": "[encoded data removed]",
      "text/plain": [
       "<Figure size 504x504 with 1 Axes>"
      ]
     },
     "metadata": {
      "needs_background": "light"
     },
     "output_type": "display_data"
    }
   ],
   "source": [
    "df_control['Purchase_to_Impression'].hist(figsize=(7,7), color='g');\n",
    "df_test['Purchase_to_Impression'].hist(figsize=(7,7), alpha=0.8);"
   ]
  },
  {
   "cell_type": "markdown",
   "metadata": {},
   "source": [
    "## 3) Build the Hypothesis"
   ]
  },
  {
   "cell_type": "code",
   "execution_count": 12,
   "metadata": {},
   "outputs": [
    {
     "name": "stdout",
     "output_type": "stream",
     "text": [
      "Impression => Reject H0; there is statistical evidence that both bidding models have significant difference.\n",
      " \n",
      "Click => Reject H0; there is statistical evidence that both bidding models have significant difference.\n",
      " \n",
      "Purchase => Cannot reject H0; there is no statistical evidence that both bidding models have significant difference.\n",
      " \n",
      "Earning => Reject H0; there is statistical evidence that both bidding models have significant difference.\n",
      " \n",
      "Click_Rate => Reject H0; there is statistical evidence that both bidding models have significant difference.\n",
      " \n",
      "Purchase_to_Click => Reject H0; there is statistical evidence that both bidding models have significant difference.\n",
      " \n",
      "Purchase_to_Impression => Reject H0; there is statistical evidence that both bidding models have significant difference.\n",
      " \n"
     ]
    }
   ],
   "source": [
    "# H0: There is no meaningful difference between two bidding models.\n",
    "# H1: There is a meaningful difference between two bidding models.\n",
    "\n",
    "for i in df_test.columns:\n",
    "    df_test = df_test_raw.copy()\n",
    "    df_control = df_control_raw.copy()\n",
    "\n",
    "    df_control = df_control[i]\n",
    "    df_control = pd.DataFrame(df_control)\n",
    "    df_control.rename({i : 'A'}, axis=1, inplace=True)\n",
    "\n",
    "    df_test = df_test[i]\n",
    "    df_test = pd.DataFrame(df_test)\n",
    "    df_test.rename({i : 'B'}, axis=1, inplace=True)\n",
    "\n",
    "    df = pd.concat([df_control, df_test], axis=1)\n",
    "    \n",
    "    test_stat1, pvalue1 = shapiro(df.A) # Normality check with Shapiro test\n",
    "    test_stat2, pvalue2 = shapiro(df.B) # Normality check with Shapiro test\n",
    "    test_stat3, pvalue3 = levene(df.A, df.B) # Variance homogeneity with Levene test\n",
    "    test_stat4, pvalue4 = ttest_ind(df.A, df.B,equal_var=True)\n",
    "    test_stat5, pvalue5 = mannwhitneyu(df.A, df.B)\n",
    "\n",
    "    if pvalue1 < 0.05 and pvalue2 < 0.05:\n",
    "        if pvalue4 < 0.05:\n",
    "            print(i,'=> Reject H0; there is statistical evidence that both bidding models have significant difference.')\n",
    "        else:\n",
    "            print(i,'=> Cannot reject H0; there is no statistical evidence that both bidding models have significant difference.')\n",
    "        \n",
    "    elif pvalue1 >= 0.05 or pvalue2 >= 0.05:\n",
    "        if pvalue5 < 0.05:\n",
    "            print(i,'=> Reject H0; there is statistical evidence that both bidding models have significant difference.')\n",
    "        else:\n",
    "            print(i,'=> Cannot reject H0; there is no statistical evidence that both bidding models have significant difference.')\n",
    "    else:\n",
    "        print('No Result')\n",
    "    print(\" \")"
   ]
  },
  {
   "cell_type": "markdown",
   "metadata": {},
   "source": [
    "## 4) Comparison of Metrics"
   ]
  },
  {
   "cell_type": "code",
   "execution_count": 13,
   "metadata": {},
   "outputs": [],
   "source": [
    "df_test = df_test_raw.copy()\n",
    "df_control = df_control_raw.copy()"
   ]
  },
  {
   "cell_type": "markdown",
   "metadata": {},
   "source": [
    "### i) Impression"
   ]
  },
  {
   "cell_type": "code",
   "execution_count": 14,
   "metadata": {},
   "outputs": [
    {
     "name": "stdout",
     "output_type": "stream",
     "text": [
      "Control Impression : 101711.45\n",
      "Test Impression    : 120512.41\n",
      "Impression Comparison: %18\n"
     ]
    }
   ],
   "source": [
    "print(\"Control Impression :\", round(df_control.Impression.mean(),2))\n",
    "print(\"Test Impression    :\", round(df_test.Impression.mean(),2))\n",
    "Impression_Comparison = round(((df_test.Impression.mean()-df_control.Impression.mean())/df_control.Impression.mean())*100)\n",
    "print(f\"Impression Comparison: %{Impression_Comparison}\")"
   ]
  },
  {
   "cell_type": "markdown",
   "metadata": {},
   "source": [
    "- Average Test Impression is %18 bigger than Average Control Impression. \n",
    "- If the impression is high, the click will also be high.\n",
    "- Click-through rates may be low when impression is high. The reason for this is that as the impression increases, advertisements appear to people who are not included in the target audience."
   ]
  },
  {
   "cell_type": "markdown",
   "metadata": {},
   "source": [
    "### ii) Click"
   ]
  },
  {
   "cell_type": "code",
   "execution_count": 15,
   "metadata": {},
   "outputs": [
    {
     "name": "stdout",
     "output_type": "stream",
     "text": [
      "Control Click : 5100.66\n",
      "Test Click    : 3967.55\n",
      "Click Comparison: %-22\n"
     ]
    }
   ],
   "source": [
    "print(\"Control Click :\", round(df_control.Click.mean(),2))\n",
    "print(\"Test Click    :\", round(df_test.Click.mean(),2))\n",
    "Click_Comparison = round(((df_test.Click.mean()-df_control.Click.mean())/df_control.Click.mean())*100)\n",
    "print(f\"Click Comparison: %{Click_Comparison}\")"
   ]
  },
  {
   "cell_type": "markdown",
   "metadata": {},
   "source": [
    "- Although average test impression is higher than average control impression, average test click is %22 lower than average control click."
   ]
  },
  {
   "cell_type": "markdown",
   "metadata": {},
   "source": [
    "### iii) Purchase"
   ]
  },
  {
   "cell_type": "code",
   "execution_count": 16,
   "metadata": {},
   "outputs": [
    {
     "name": "stdout",
     "output_type": "stream",
     "text": [
      "Control Purchase : 550.89\n",
      "Test Purchase    : 582.11\n",
      "Purchase Comparison: %6\n"
     ]
    }
   ],
   "source": [
    "print(\"Control Purchase :\", round(df_control.Purchase.mean(),2))\n",
    "print(\"Test Purchase    :\", round(df_test.Purchase.mean(),2))\n",
    "Purchase_Comparison = round(((df_test.Purchase.mean()-df_control.Purchase.mean())/df_control.Purchase.mean())*100)\n",
    "print(f\"Purchase Comparison: %{Purchase_Comparison}\")"
   ]
  },
  {
   "cell_type": "markdown",
   "metadata": {},
   "source": [
    "- Average test purchase is %6 bigger than average Control Purchase."
   ]
  },
  {
   "cell_type": "markdown",
   "metadata": {},
   "source": [
    "### iv) Earning"
   ]
  },
  {
   "cell_type": "code",
   "execution_count": 17,
   "metadata": {},
   "outputs": [
    {
     "name": "stdout",
     "output_type": "stream",
     "text": [
      "Control Earning : 1908.57\n",
      "Test Earning    : 2514.89\n",
      "Click Comparison: %32\n"
     ]
    }
   ],
   "source": [
    "print(\"Control Earning :\", round(df_control.Earning.mean(),2))\n",
    "print(\"Test Earning    :\", round(df_test.Earning.mean(),2))\n",
    "Earning_Comparison = round(((df_test.Earning.mean()-df_control.Earning.mean())/df_control.Earning.mean())*100)\n",
    "print(f\"Click Comparison: %{Earning_Comparison}\")"
   ]
  },
  {
   "cell_type": "markdown",
   "metadata": {},
   "source": [
    "- Average Test Earning is %32 higher than average Control Earning.\n",
    "- Although the Test bidding has fewer clicks than the control bidding, the test bidding resulted in higher earnings."
   ]
  },
  {
   "cell_type": "markdown",
   "metadata": {},
   "source": [
    "### v) Click Rate"
   ]
  },
  {
   "cell_type": "code",
   "execution_count": 18,
   "metadata": {},
   "outputs": [
    {
     "name": "stdout",
     "output_type": "stream",
     "text": [
      "Control Click Rate : 0.0536\n",
      "Test Click Rate    : 0.0342\n",
      "Click Comparison: %-36\n"
     ]
    }
   ],
   "source": [
    "print(\"Control Click Rate :\", round(df_control.Click_Rate.mean(),4))\n",
    "print(\"Test Click Rate    :\", round(df_test.Click_Rate.mean(),4))\n",
    "Click_Rate_Comparison = round(((df_test.Click_Rate.mean()-df_control.Click_Rate.mean())/df_control.Click_Rate.mean())*100)\n",
    "print(f\"Click Comparison: %{Click_Rate_Comparison}\")"
   ]
  },
  {
   "cell_type": "markdown",
   "metadata": {},
   "source": [
    "- Average Test Click Rate is %36 lower than average Control Click Rate.\n",
    "- Part of the difference between the two biddings can be explained by the 18% greater test impression."
   ]
  },
  {
   "cell_type": "markdown",
   "metadata": {},
   "source": [
    "### vi) Purchase to Click"
   ]
  },
  {
   "cell_type": "code",
   "execution_count": 19,
   "metadata": {},
   "outputs": [
    {
     "name": "stdout",
     "output_type": "stream",
     "text": [
      "Control Purchase to Click : 0.1159\n",
      "Test Purchase to Click    : 0.1566\n",
      "Click Comparison: %35\n"
     ]
    }
   ],
   "source": [
    "print(\"Control Purchase to Click :\", round(df_control.Purchase_to_Click.mean(),4))\n",
    "print(\"Test Purchase to Click    :\", round(df_test.Purchase_to_Click.mean(),4))\n",
    "Purchase_to_Click_Comparison = round(((df_test.Purchase_to_Click.mean()-df_control.Purchase_to_Click.mean())/df_control.Purchase_to_Click.mean())*100)\n",
    "print(f\"Click Comparison: %{Purchase_to_Click_Comparison}\")"
   ]
  },
  {
   "cell_type": "markdown",
   "metadata": {},
   "source": [
    "- Average Test Purchase to Click is %35 higher than average Purchase to Click."
   ]
  },
  {
   "cell_type": "markdown",
   "metadata": {},
   "source": [
    "### vii) Purchase to Impression"
   ]
  },
  {
   "cell_type": "code",
   "execution_count": 20,
   "metadata": {},
   "outputs": [
    {
     "name": "stdout",
     "output_type": "stream",
     "text": [
      "Control Purchase to Impression Rate : 0.0056\n",
      "Test Purchase to Impression Rate    : 0.0049\n",
      "Click Comparison: %-12\n"
     ]
    }
   ],
   "source": [
    "print(\"Control Purchase to Impression Rate :\", round(df_control.Purchase_to_Impression.mean(),4))\n",
    "print(\"Test Purchase to Impression Rate    :\", round(df_test.Purchase_to_Impression.mean(),4))\n",
    "Purchase_to_Impression_Comparison = round(((df_test.Purchase_to_Impression.mean()-df_control.Purchase_to_Impression.mean())/df_control.Purchase_to_Impression.mean())*100)\n",
    "print(f\"Click Comparison: %{Purchase_to_Impression_Comparison}\")"
   ]
  },
  {
   "cell_type": "markdown",
   "metadata": {},
   "source": [
    "- Average Test Purchase to Impression is %12 lower than average Purchase to Impression.\n",
    "- Part of the difference between the two biddings can be explained by the 18% greater test impression."
   ]
  },
  {
   "cell_type": "markdown",
   "metadata": {},
   "source": [
    "## Result"
   ]
  },
  {
   "cell_type": "markdown",
   "metadata": {},
   "source": [
    "According to the results we obtained above, the bidding case should be examined by earning. After hypothesis testing, we found a statistically meaningful difference between the two bidding models. Therefore, we compared the averages of both bidding models, average test earning is higher than average control earning. So, we believe that the average bidding model works well."
   ]
  }
 ],
 "metadata": {
  "kernelspec": {
   "display_name": "Python 3",
   "language": "python",
   "name": "python3"
  },
  "language_info": {
   "codemirror_mode": {
    "name": "ipython",
    "version": 3
   },
   "file_extension": ".py",
   "mimetype": "text/x-python",
   "name": "python",
   "nbconvert_exporter": "python",
   "pygments_lexer": "ipython3",
   "version": "3.8.8"
  }
 },
 "nbformat": 4,
 "nbformat_minor": 4
}
